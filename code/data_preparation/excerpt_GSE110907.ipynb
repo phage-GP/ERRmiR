{
 "cells": [
  {
   "cell_type": "markdown",
   "id": "49e267ce",
   "metadata": {},
   "source": [
    "\n",
    "excerpt 分析结果合并\n",
    "\n",
    "文件夹格式:\n",
    "    \n",
    "    GSE_ID_out/SRR_ID/readCounts_miRNAmature_sense.txt\n",
    "    \n",
    "合并思路：\n",
    "\n",
    "    和miRbase miRNA 列表合并，以其为索引的中间文件，文件名为SRR_ID\n",
    "    \n",
    "    合并中间文件，列名为SRR_id\n",
    "    \n",
    "需要文件：\n",
    "    \n",
    "    miRBASE 记录的miRNA 列表\n",
    "    \n",
    "    SRR_list\n",
    "    \n",
    "注意事项：\n",
    "\n",
    "    来源不同的相同成熟miRNA, 存在于不同的行\n",
    "    \n",
    "备注：服务器上完成"
   ]
  },
  {
   "cell_type": "code",
   "execution_count": 1,
   "id": "cb9ae695",
   "metadata": {},
   "outputs": [],
   "source": [
    "import pandas as pd\n",
    "import os"
   ]
  },
  {
   "cell_type": "code",
   "execution_count": 2,
   "id": "c913badf",
   "metadata": {},
   "outputs": [],
   "source": [
    "df_mir_ = pd.read_csv('miR_list.txt',sep='\\t') # ['miRNAID'].to_list()\n",
    "\n",
    "GSE_ID = 'GSE110907'\n",
    "\n",
    "file_path = f'{GSE_ID}_out'\n",
    "\n",
    "mir_file = 'readCounts_miRNAmature_sense.txt'\n",
    "\n",
    "with open(f'{GSE_ID}/{GSE_ID}_SRR_Acc_List.txt','r') as f:\n",
    "    sra_list = [srr.replace('\\n','') for srr in f.readlines()]"
   ]
  },
  {
   "cell_type": "code",
   "execution_count": 4,
   "id": "6f5cc1c5",
   "metadata": {
    "scrolled": true
   },
   "outputs": [
    {
     "name": "stdout",
     "output_type": "stream",
     "text": [
      "394\n"
     ]
    },
    {
     "data": {
      "text/plain": [
       "392"
      ]
     },
     "execution_count": 4,
     "metadata": {},
     "output_type": "execute_result"
    }
   ],
   "source": [
    "df_ = pd.read_csv(os.path.join(file_path, 'SRR6757422', mir_file),sep='\\t')[['ReferenceID','totalReadCount']]\n",
    "print(len(set(df_['ReferenceID'])))\n",
    "df_['miRNA_ID'] = df_['ReferenceID'].str.split(':')\n",
    "df_['miRNA_ID'] = df_['miRNA_ID'].str[0]\n",
    "len(set(df_['miRNA_ID']))"
   ]
  },
  {
   "cell_type": "code",
   "execution_count": 5,
   "id": "d4effabf",
   "metadata": {},
   "outputs": [
    {
     "data": {
      "text/html": [
       "<div>\n",
       "<style scoped>\n",
       "    .dataframe tbody tr th:only-of-type {\n",
       "        vertical-align: middle;\n",
       "    }\n",
       "\n",
       "    .dataframe tbody tr th {\n",
       "        vertical-align: top;\n",
       "    }\n",
       "\n",
       "    .dataframe thead th {\n",
       "        text-align: right;\n",
       "    }\n",
       "</style>\n",
       "<table border=\"1\" class=\"dataframe\">\n",
       "  <thead>\n",
       "    <tr style=\"text-align: right;\">\n",
       "      <th></th>\n",
       "      <th>miRNA_ID</th>\n",
       "      <th>totalReadCount</th>\n",
       "    </tr>\n",
       "  </thead>\n",
       "  <tbody>\n",
       "    <tr>\n",
       "      <th>0</th>\n",
       "      <td>hsa-let-7a-3</td>\n",
       "      <td>5</td>\n",
       "    </tr>\n",
       "    <tr>\n",
       "      <th>1</th>\n",
       "      <td>hsa-let-7a-5p</td>\n",
       "      <td>518122</td>\n",
       "    </tr>\n",
       "    <tr>\n",
       "      <th>2</th>\n",
       "      <td>hsa-let-7b-5p</td>\n",
       "      <td>674</td>\n",
       "    </tr>\n",
       "    <tr>\n",
       "      <th>3</th>\n",
       "      <td>hsa-let-7c-5p</td>\n",
       "      <td>518117</td>\n",
       "    </tr>\n",
       "    <tr>\n",
       "      <th>4</th>\n",
       "      <td>hsa-let-7d-5p</td>\n",
       "      <td>10749</td>\n",
       "    </tr>\n",
       "    <tr>\n",
       "      <th>...</th>\n",
       "      <td>...</td>\n",
       "      <td>...</td>\n",
       "    </tr>\n",
       "    <tr>\n",
       "      <th>387</th>\n",
       "      <td>hsa-mir-30c-1</td>\n",
       "      <td>51833</td>\n",
       "    </tr>\n",
       "    <tr>\n",
       "      <th>388</th>\n",
       "      <td>hsa-mir-30c-2</td>\n",
       "      <td>9</td>\n",
       "    </tr>\n",
       "    <tr>\n",
       "      <th>389</th>\n",
       "      <td>hsa-mir-378a</td>\n",
       "      <td>1</td>\n",
       "    </tr>\n",
       "    <tr>\n",
       "      <th>390</th>\n",
       "      <td>hsa-mir-378c</td>\n",
       "      <td>517</td>\n",
       "    </tr>\n",
       "    <tr>\n",
       "      <th>391</th>\n",
       "      <td>hsa-mir-378e</td>\n",
       "      <td>1</td>\n",
       "    </tr>\n",
       "  </tbody>\n",
       "</table>\n",
       "<p>392 rows × 2 columns</p>\n",
       "</div>"
      ],
      "text/plain": [
       "          miRNA_ID  totalReadCount\n",
       "0     hsa-let-7a-3               5\n",
       "1    hsa-let-7a-5p          518122\n",
       "2    hsa-let-7b-5p             674\n",
       "3    hsa-let-7c-5p          518117\n",
       "4    hsa-let-7d-5p           10749\n",
       "..             ...             ...\n",
       "387  hsa-mir-30c-1           51833\n",
       "388  hsa-mir-30c-2               9\n",
       "389   hsa-mir-378a               1\n",
       "390   hsa-mir-378c             517\n",
       "391   hsa-mir-378e               1\n",
       "\n",
       "[392 rows x 2 columns]"
      ]
     },
     "execution_count": 5,
     "metadata": {},
     "output_type": "execute_result"
    }
   ],
   "source": [
    "df_.groupby('miRNA_ID')['totalReadCount'].sum().reset_index()"
   ]
  },
  {
   "cell_type": "code",
   "execution_count": 7,
   "id": "ce07aca8",
   "metadata": {},
   "outputs": [],
   "source": [
    "import os\n",
    "for sra in sra_list: # 生成中间文件，列为mirbase21的列\n",
    "\n",
    "    df_expr_ = pd.read_csv(os.path.join(file_path, sra, mir_file),sep='\\t')\n",
    "    df_expr_['miRNA_ID'] = df_expr_['ReferenceID'].str.split(':')\n",
    "    df_expr_['miRNA_ID'] = df_expr_['miRNA_ID'].str[0]\n",
    "    df_expr_mature = df_expr_.groupby('miRNA_ID')['totalReadCount'].sum().reset_index()\n",
    "    df_tmp = pd.merge(df_mir_, df_expr_mature, left_on = 'miRNAID', right_on='miRNA_ID',how='left')\n",
    "    df_tmp.drop('miRNA_ID',axis=1,inplace=True)\n",
    "    df_tmp.fillna(0,inplace=True)\n",
    "    \n",
    "    df_tmp.rename(columns={'totalReadCount':sra},inplace=True) # 重命名为 sra_id\n",
    "    df_tmp.to_csv(f'./{GSE_ID}_tmp/{sra}.csv',index=None)"
   ]
  },
  {
   "cell_type": "markdown",
   "id": "f1e7a85c",
   "metadata": {},
   "source": [
    "**合并数据**"
   ]
  },
  {
   "cell_type": "code",
   "execution_count": 8,
   "id": "333752b7",
   "metadata": {},
   "outputs": [
    {
     "data": {
      "text/html": [
       "<div>\n",
       "<style scoped>\n",
       "    .dataframe tbody tr th:only-of-type {\n",
       "        vertical-align: middle;\n",
       "    }\n",
       "\n",
       "    .dataframe tbody tr th {\n",
       "        vertical-align: top;\n",
       "    }\n",
       "\n",
       "    .dataframe thead th {\n",
       "        text-align: right;\n",
       "    }\n",
       "</style>\n",
       "<table border=\"1\" class=\"dataframe\">\n",
       "  <thead>\n",
       "    <tr style=\"text-align: right;\">\n",
       "      <th></th>\n",
       "      <th>miRNAID</th>\n",
       "      <th>SRR6757403</th>\n",
       "    </tr>\n",
       "  </thead>\n",
       "  <tbody>\n",
       "    <tr>\n",
       "      <th>0</th>\n",
       "      <td>hsa-let-7a-2-3p</td>\n",
       "      <td>0.0</td>\n",
       "    </tr>\n",
       "    <tr>\n",
       "      <th>1</th>\n",
       "      <td>hsa-let-7a-3p</td>\n",
       "      <td>0.0</td>\n",
       "    </tr>\n",
       "    <tr>\n",
       "      <th>2</th>\n",
       "      <td>hsa-let-7a-5p</td>\n",
       "      <td>983705.0</td>\n",
       "    </tr>\n",
       "    <tr>\n",
       "      <th>3</th>\n",
       "      <td>hsa-let-7b-3p</td>\n",
       "      <td>0.0</td>\n",
       "    </tr>\n",
       "    <tr>\n",
       "      <th>4</th>\n",
       "      <td>hsa-let-7b-5p</td>\n",
       "      <td>535.0</td>\n",
       "    </tr>\n",
       "  </tbody>\n",
       "</table>\n",
       "</div>"
      ],
      "text/plain": [
       "           miRNAID  SRR6757403\n",
       "0  hsa-let-7a-2-3p         0.0\n",
       "1    hsa-let-7a-3p         0.0\n",
       "2    hsa-let-7a-5p    983705.0\n",
       "3    hsa-let-7b-3p         0.0\n",
       "4    hsa-let-7b-5p       535.0"
      ]
     },
     "execution_count": 8,
     "metadata": {},
     "output_type": "execute_result"
    }
   ],
   "source": [
    "tmp_path = f'./{GSE_ID}_tmp/'\n",
    "mir_files = os.listdir(tmp_path)\n",
    "mir_df = pd.read_csv(os.path.join(tmp_path,mir_files[0]))\n",
    "mir_df.head()"
   ]
  },
  {
   "cell_type": "code",
   "execution_count": 10,
   "id": "73443cfc",
   "metadata": {},
   "outputs": [
    {
     "name": "stdout",
     "output_type": "stream",
     "text": [
      "miRNA 数据维度：(2652, 97)\n",
      "\n"
     ]
    }
   ],
   "source": [
    "for mir in mir_files[1:]:\n",
    "    mir_df_ = pd.read_csv(os.path.join(tmp_path,mir))[mir.replace('.csv','')] # 本数据中miR注释总数相同，合并后顺序对应\n",
    "    mir_df = pd.concat([mir_df,mir_df_], axis=1)\n",
    "\n",
    "print(f'miRNA 数据维度：{mir_df.shape}\\n')\n",
    "\n",
    "mir_df.to_csv(f'./{GSE_ID}_result/{GSE_ID}_counts.tsv',sep='\\t',index=None)\n"
   ]
  },
  {
   "cell_type": "code",
   "execution_count": null,
   "id": "6d6de1b2",
   "metadata": {},
   "outputs": [],
   "source": []
  }
 ],
 "metadata": {
  "kernelspec": {
   "display_name": "Python 3 (ipykernel)",
   "language": "python",
   "name": "python3"
  },
  "language_info": {
   "codemirror_mode": {
    "name": "ipython",
    "version": 3
   },
   "file_extension": ".py",
   "mimetype": "text/x-python",
   "name": "python",
   "nbconvert_exporter": "python",
   "pygments_lexer": "ipython3",
   "version": "3.8.13"
  }
 },
 "nbformat": 4,
 "nbformat_minor": 5
}
