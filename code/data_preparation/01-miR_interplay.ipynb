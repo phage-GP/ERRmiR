{
 "cells": [
  {
   "cell_type": "markdown",
   "id": "e55b4104",
   "metadata": {},
   "source": [
    "## miR_target\n",
    "\n",
    "miR作用靶点\n",
    "\n",
    "1. [hsa_MTI.xlsx](https://mirtarbase.cuhk.edu.cn/~miRTarBase/miRTarBase_2022/cache/download/8.0/hsa_MTI.xlsx)\n",
    "\n",
    "    实验验证的miRNA-靶点信息\n",
    "\n",
    "    >[miRTarBase: the experimentally validated microRNA-target interactions database (cuhk.edu.cn)](https://mirtarbase.cuhk.edu.cn/~miRTarBase/miRTarBase_2022/php/download.php)\n",
    "    >\n",
    "    >[miRTarBase 2020: updates to the experimentally validated microRNA–target interaction database | Nucleic Acids Research | Oxford Academic (oup.com)](https://academic.oup.com/nar/article/48/D1/D148/5606625?login=false)\n",
    "\n",
    "## tf_info\n",
    "\n",
    "转录因子mRNA\n",
    "\n",
    "1. [TF-Target-information.txt](http://bioinfo.life.hust.edu.cn/static/hTFtarget/file_download/tf-target-infomation.txt)\n",
    "\n",
    "    >[hTFtarget: A Comprehensive Database for Regulations of Human Transcription Factors and Their Targets - ScienceDirect](https://www.sciencedirect.com/science/article/pii/S1672022920300954?via%3Dihub)\n",
    "\n",
    "2. [Homo_sapiens_TF.txt](http://bioinfo.life.hust.edu.cn/static/AnimalTFDB3/download/Homo_sapiens_TF)\n",
    "\n",
    "3. [Homo_sapiens_TF_cofactors.txt](http://bioinfo.life.hust.edu.cn/static/AnimalTFDB3/download/Homo_sapiens_TF_cofactors)\n",
    "\n",
    "    > [AnimalTFDB 3.0: a comprehensive resource for annotation and prediction of animal transcription factors | Nucleic Acids Research | Oxford Academic (oup.com)](https://academic.oup.com/nar/article/47/D1/D33/5094755?guestAccessKey=d0b5ab2d-e4ea-4b97-a181-51b578f1fa83&login=false)\n",
    "\n",
    "## tf_miR\n",
    "\n",
    "转录因子调控的miR\n",
    "\n",
    "1. [hsa.csv](http://www.cuilab.cn/files/images/transmir2/download/literature/hsa.xlsx)\n",
    "\n",
    "    literature-curated TF-miRNA regulation data\n",
    "\n",
    "2. [hsa.tsv.gz](http://www.cuilab.cn/files/images/transmir2/download/alldata/hsa.tsv.gz)\n",
    "\n",
    "    all evidence level TF-miRNA regulation data\n",
    "\n",
    ">[TransmiR v2.0: an updated transcription factor-microRNA regulation database | Nucleic Acids Research | Oxford Academic (oup.com)](https://academic.oup.com/nar/article/47/D1/D253/5146188) \n",
    "\n",
    "The TF–miRNA regulations derived from ChIP-seq data were classified into **level 1 (predicted)** and **level 2 (supported by high-throughput experimental data)** according to the reliability of TSS annotations."
   ]
  },
  {
   "cell_type": "code",
   "execution_count": 1,
   "id": "059124de",
   "metadata": {},
   "outputs": [],
   "source": [
    "import pandas as pd"
   ]
  },
  {
   "cell_type": "code",
   "execution_count": 2,
   "id": "3c0b7198",
   "metadata": {},
   "outputs": [],
   "source": [
    "miR_target = pd.read_excel('../../data/miR_interplay_data/miR_target/hsa_MTI.xlsx')\n",
    "\n",
    "tf_info_1 = pd.read_csv('../../data/miR_interplay_data/tf_info/TF-Target-information.txt',sep='\\t')\n",
    "tf_info_2 = pd.read_csv('../../data/miR_interplay_data/tf_info/Homo_sapiens_TF.txt',sep='\\t')\n",
    "\n",
    "tf_miR_col = ['TF name','miRNA name','TSS','Binding site','Action type','SRAID/PMID','Evidence','Tissue','Species']\n",
    "tf_miR = pd.read_csv('../../data/miR_interplay_data/tf_miR/hsa.tsv',sep='\\t',names=tf_miR_col,header=None)"
   ]
  },
  {
   "cell_type": "code",
   "execution_count": 3,
   "id": "20ffd4e4",
   "metadata": {},
   "outputs": [
    {
     "data": {
      "text/html": [
       "<div>\n",
       "<style scoped>\n",
       "    .dataframe tbody tr th:only-of-type {\n",
       "        vertical-align: middle;\n",
       "    }\n",
       "\n",
       "    .dataframe tbody tr th {\n",
       "        vertical-align: top;\n",
       "    }\n",
       "\n",
       "    .dataframe thead th {\n",
       "        text-align: right;\n",
       "    }\n",
       "</style>\n",
       "<table border=\"1\" class=\"dataframe\">\n",
       "  <thead>\n",
       "    <tr style=\"text-align: right;\">\n",
       "      <th></th>\n",
       "      <th>miRTarBase ID</th>\n",
       "      <th>miRNA</th>\n",
       "      <th>Species (miRNA)</th>\n",
       "      <th>Target Gene</th>\n",
       "      <th>Target Gene (Entrez Gene ID)</th>\n",
       "      <th>Species (Target Gene)</th>\n",
       "      <th>Experiments</th>\n",
       "      <th>Support Type</th>\n",
       "      <th>References (PMID)</th>\n",
       "    </tr>\n",
       "  </thead>\n",
       "  <tbody>\n",
       "    <tr>\n",
       "      <th>0</th>\n",
       "      <td>MIRT000002</td>\n",
       "      <td>hsa-miR-20a-5p</td>\n",
       "      <td>Homo sapiens</td>\n",
       "      <td>HIF1A</td>\n",
       "      <td>3091</td>\n",
       "      <td>Homo sapiens</td>\n",
       "      <td>Luciferase reporter assay//Western blot//North...</td>\n",
       "      <td>Functional MTI</td>\n",
       "      <td>18632605</td>\n",
       "    </tr>\n",
       "    <tr>\n",
       "      <th>1</th>\n",
       "      <td>MIRT000002</td>\n",
       "      <td>hsa-miR-20a-5p</td>\n",
       "      <td>Homo sapiens</td>\n",
       "      <td>HIF1A</td>\n",
       "      <td>3091</td>\n",
       "      <td>Homo sapiens</td>\n",
       "      <td>HITS-CLIP</td>\n",
       "      <td>Functional MTI (Weak)</td>\n",
       "      <td>22473208</td>\n",
       "    </tr>\n",
       "    <tr>\n",
       "      <th>2</th>\n",
       "      <td>MIRT000002</td>\n",
       "      <td>hsa-miR-20a-5p</td>\n",
       "      <td>Homo sapiens</td>\n",
       "      <td>HIF1A</td>\n",
       "      <td>3091</td>\n",
       "      <td>Homo sapiens</td>\n",
       "      <td>Luciferase reporter assay//qRT-PCR//Western blot</td>\n",
       "      <td>Functional MTI</td>\n",
       "      <td>23911400</td>\n",
       "    </tr>\n",
       "    <tr>\n",
       "      <th>3</th>\n",
       "      <td>MIRT000006</td>\n",
       "      <td>hsa-miR-146a-5p</td>\n",
       "      <td>Homo sapiens</td>\n",
       "      <td>CXCR4</td>\n",
       "      <td>7852</td>\n",
       "      <td>Homo sapiens</td>\n",
       "      <td>qRT-PCR//Luciferase reporter assay//Western blot</td>\n",
       "      <td>Functional MTI</td>\n",
       "      <td>18568019</td>\n",
       "    </tr>\n",
       "    <tr>\n",
       "      <th>4</th>\n",
       "      <td>MIRT000006</td>\n",
       "      <td>hsa-miR-146a-5p</td>\n",
       "      <td>Homo sapiens</td>\n",
       "      <td>CXCR4</td>\n",
       "      <td>7852</td>\n",
       "      <td>Homo sapiens</td>\n",
       "      <td>Microarray</td>\n",
       "      <td>Functional MTI (Weak)</td>\n",
       "      <td>20375304</td>\n",
       "    </tr>\n",
       "  </tbody>\n",
       "</table>\n",
       "</div>"
      ],
      "text/plain": [
       "  miRTarBase ID            miRNA Species (miRNA) Target Gene  \\\n",
       "0    MIRT000002   hsa-miR-20a-5p    Homo sapiens       HIF1A   \n",
       "1    MIRT000002   hsa-miR-20a-5p    Homo sapiens       HIF1A   \n",
       "2    MIRT000002   hsa-miR-20a-5p    Homo sapiens       HIF1A   \n",
       "3    MIRT000006  hsa-miR-146a-5p    Homo sapiens       CXCR4   \n",
       "4    MIRT000006  hsa-miR-146a-5p    Homo sapiens       CXCR4   \n",
       "\n",
       "   Target Gene (Entrez Gene ID) Species (Target Gene)  \\\n",
       "0                          3091          Homo sapiens   \n",
       "1                          3091          Homo sapiens   \n",
       "2                          3091          Homo sapiens   \n",
       "3                          7852          Homo sapiens   \n",
       "4                          7852          Homo sapiens   \n",
       "\n",
       "                                         Experiments           Support Type  \\\n",
       "0  Luciferase reporter assay//Western blot//North...         Functional MTI   \n",
       "1                                          HITS-CLIP  Functional MTI (Weak)   \n",
       "2   Luciferase reporter assay//qRT-PCR//Western blot         Functional MTI   \n",
       "3   qRT-PCR//Luciferase reporter assay//Western blot         Functional MTI   \n",
       "4                                         Microarray  Functional MTI (Weak)   \n",
       "\n",
       "   References (PMID)  \n",
       "0           18632605  \n",
       "1           22473208  \n",
       "2           23911400  \n",
       "3           18568019  \n",
       "4           20375304  "
      ]
     },
     "execution_count": 3,
     "metadata": {},
     "output_type": "execute_result"
    }
   ],
   "source": [
    "miR_target.head()"
   ]
  },
  {
   "cell_type": "code",
   "execution_count": 4,
   "id": "fa77b41f",
   "metadata": {},
   "outputs": [
    {
     "data": {
      "text/plain": [
       "(502652, 9)"
      ]
     },
     "execution_count": 4,
     "metadata": {},
     "output_type": "execute_result"
    }
   ],
   "source": [
    "miR_target.shape"
   ]
  },
  {
   "cell_type": "code",
   "execution_count": 5,
   "id": "f5fc3e55",
   "metadata": {},
   "outputs": [
    {
     "data": {
      "text/html": [
       "<div>\n",
       "<style scoped>\n",
       "    .dataframe tbody tr th:only-of-type {\n",
       "        vertical-align: middle;\n",
       "    }\n",
       "\n",
       "    .dataframe tbody tr th {\n",
       "        vertical-align: top;\n",
       "    }\n",
       "\n",
       "    .dataframe thead th {\n",
       "        text-align: right;\n",
       "    }\n",
       "</style>\n",
       "<table border=\"1\" class=\"dataframe\">\n",
       "  <thead>\n",
       "    <tr style=\"text-align: right;\">\n",
       "      <th></th>\n",
       "      <th>TF</th>\n",
       "      <th>target</th>\n",
       "      <th>tissue</th>\n",
       "    </tr>\n",
       "  </thead>\n",
       "  <tbody>\n",
       "    <tr>\n",
       "      <th>0</th>\n",
       "      <td>AEBP2</td>\n",
       "      <td>TMEM53</td>\n",
       "      <td>colon</td>\n",
       "    </tr>\n",
       "    <tr>\n",
       "      <th>1</th>\n",
       "      <td>AEBP2</td>\n",
       "      <td>C1orf228</td>\n",
       "      <td>colon</td>\n",
       "    </tr>\n",
       "    <tr>\n",
       "      <th>2</th>\n",
       "      <td>AEBP2</td>\n",
       "      <td>FBXO31</td>\n",
       "      <td>colon</td>\n",
       "    </tr>\n",
       "    <tr>\n",
       "      <th>3</th>\n",
       "      <td>AEBP2</td>\n",
       "      <td>ADAMTSL5</td>\n",
       "      <td>colon</td>\n",
       "    </tr>\n",
       "    <tr>\n",
       "      <th>4</th>\n",
       "      <td>AEBP2</td>\n",
       "      <td>CTB-25B13.9</td>\n",
       "      <td>colon</td>\n",
       "    </tr>\n",
       "  </tbody>\n",
       "</table>\n",
       "</div>"
      ],
      "text/plain": [
       "      TF       target tissue\n",
       "0  AEBP2       TMEM53  colon\n",
       "1  AEBP2     C1orf228  colon\n",
       "2  AEBP2       FBXO31  colon\n",
       "3  AEBP2     ADAMTSL5  colon\n",
       "4  AEBP2  CTB-25B13.9  colon"
      ]
     },
     "execution_count": 5,
     "metadata": {},
     "output_type": "execute_result"
    }
   ],
   "source": [
    "tf_info_1.head()"
   ]
  },
  {
   "cell_type": "code",
   "execution_count": 6,
   "id": "a89bff25",
   "metadata": {},
   "outputs": [
    {
     "data": {
      "text/html": [
       "<div>\n",
       "<style scoped>\n",
       "    .dataframe tbody tr th:only-of-type {\n",
       "        vertical-align: middle;\n",
       "    }\n",
       "\n",
       "    .dataframe tbody tr th {\n",
       "        vertical-align: top;\n",
       "    }\n",
       "\n",
       "    .dataframe thead th {\n",
       "        text-align: right;\n",
       "    }\n",
       "</style>\n",
       "<table border=\"1\" class=\"dataframe\">\n",
       "  <thead>\n",
       "    <tr style=\"text-align: right;\">\n",
       "      <th></th>\n",
       "      <th>Species</th>\n",
       "      <th>Symbol</th>\n",
       "      <th>Ensembl</th>\n",
       "      <th>Family</th>\n",
       "      <th>Protein</th>\n",
       "      <th>Entrez ID</th>\n",
       "    </tr>\n",
       "  </thead>\n",
       "  <tbody>\n",
       "    <tr>\n",
       "      <th>0</th>\n",
       "      <td>Homo_sapiens</td>\n",
       "      <td>ZBTB8B</td>\n",
       "      <td>ENSG00000273274</td>\n",
       "      <td>ZBTB</td>\n",
       "      <td>ENSP00000476499;ENSP00000476499;</td>\n",
       "      <td>728116</td>\n",
       "    </tr>\n",
       "    <tr>\n",
       "      <th>1</th>\n",
       "      <td>Homo_sapiens</td>\n",
       "      <td>GSX2</td>\n",
       "      <td>ENSG00000180613</td>\n",
       "      <td>Homeobox</td>\n",
       "      <td>ENSP00000319118;ENSP00000483522;</td>\n",
       "      <td>170825</td>\n",
       "    </tr>\n",
       "    <tr>\n",
       "      <th>2</th>\n",
       "      <td>Homo_sapiens</td>\n",
       "      <td>TBX2</td>\n",
       "      <td>ENSG00000121068</td>\n",
       "      <td>T-box</td>\n",
       "      <td>ENSP00000404781;ENSP00000240328;</td>\n",
       "      <td>6909</td>\n",
       "    </tr>\n",
       "    <tr>\n",
       "      <th>3</th>\n",
       "      <td>Homo_sapiens</td>\n",
       "      <td>PAX8</td>\n",
       "      <td>ENSG00000125618</td>\n",
       "      <td>PAX</td>\n",
       "      <td>ENSP00000395498;ENSP00000263335;ENSP0000038076...</td>\n",
       "      <td>7849</td>\n",
       "    </tr>\n",
       "    <tr>\n",
       "      <th>4</th>\n",
       "      <td>Homo_sapiens</td>\n",
       "      <td>CREB3L1</td>\n",
       "      <td>ENSG00000157613</td>\n",
       "      <td>TF_bZIP</td>\n",
       "      <td>ENSP00000481956;ENSP00000436574;</td>\n",
       "      <td>90993</td>\n",
       "    </tr>\n",
       "  </tbody>\n",
       "</table>\n",
       "</div>"
      ],
      "text/plain": [
       "        Species   Symbol          Ensembl    Family  \\\n",
       "0  Homo_sapiens   ZBTB8B  ENSG00000273274      ZBTB   \n",
       "1  Homo_sapiens     GSX2  ENSG00000180613  Homeobox   \n",
       "2  Homo_sapiens     TBX2  ENSG00000121068     T-box   \n",
       "3  Homo_sapiens     PAX8  ENSG00000125618       PAX   \n",
       "4  Homo_sapiens  CREB3L1  ENSG00000157613   TF_bZIP   \n",
       "\n",
       "                                             Protein Entrez ID  \n",
       "0                   ENSP00000476499;ENSP00000476499;    728116  \n",
       "1                   ENSP00000319118;ENSP00000483522;    170825  \n",
       "2                   ENSP00000404781;ENSP00000240328;      6909  \n",
       "3  ENSP00000395498;ENSP00000263335;ENSP0000038076...      7849  \n",
       "4                   ENSP00000481956;ENSP00000436574;     90993  "
      ]
     },
     "execution_count": 6,
     "metadata": {},
     "output_type": "execute_result"
    }
   ],
   "source": [
    "tf_info_2.head()"
   ]
  },
  {
   "cell_type": "code",
   "execution_count": 7,
   "id": "ee551513",
   "metadata": {},
   "outputs": [
    {
     "data": {
      "text/html": [
       "<div>\n",
       "<style scoped>\n",
       "    .dataframe tbody tr th:only-of-type {\n",
       "        vertical-align: middle;\n",
       "    }\n",
       "\n",
       "    .dataframe tbody tr th {\n",
       "        vertical-align: top;\n",
       "    }\n",
       "\n",
       "    .dataframe thead th {\n",
       "        text-align: right;\n",
       "    }\n",
       "</style>\n",
       "<table border=\"1\" class=\"dataframe\">\n",
       "  <thead>\n",
       "    <tr style=\"text-align: right;\">\n",
       "      <th></th>\n",
       "      <th>TF name</th>\n",
       "      <th>miRNA name</th>\n",
       "      <th>TSS</th>\n",
       "      <th>Binding site</th>\n",
       "      <th>Action type</th>\n",
       "      <th>SRAID/PMID</th>\n",
       "      <th>Evidence</th>\n",
       "      <th>Tissue</th>\n",
       "      <th>Species</th>\n",
       "    </tr>\n",
       "  </thead>\n",
       "  <tbody>\n",
       "    <tr>\n",
       "      <th>0</th>\n",
       "      <td>AFF1</td>\n",
       "      <td>hsa-mir-10396a</td>\n",
       "      <td>chr21: 8986999</td>\n",
       "      <td>chr21: 8986747-8987603(score=896)</td>\n",
       "      <td>Regulation</td>\n",
       "      <td>SRX1293533</td>\n",
       "      <td>level 1</td>\n",
       "      <td>Blood</td>\n",
       "      <td>H.sapiens</td>\n",
       "    </tr>\n",
       "    <tr>\n",
       "      <th>1</th>\n",
       "      <td>AFF1</td>\n",
       "      <td>hsa-mir-10396a</td>\n",
       "      <td>chr21: 8986999</td>\n",
       "      <td>chr21: 8987366-8987446(score=448)</td>\n",
       "      <td>Regulation</td>\n",
       "      <td>SRX151223</td>\n",
       "      <td>level 1</td>\n",
       "      <td>Blood</td>\n",
       "      <td>H.sapiens</td>\n",
       "    </tr>\n",
       "    <tr>\n",
       "      <th>2</th>\n",
       "      <td>AFF1</td>\n",
       "      <td>hsa-mir-12136</td>\n",
       "      <td>chr1: 632685</td>\n",
       "      <td>chr1: 631917-632055(score=297)</td>\n",
       "      <td>Regulation</td>\n",
       "      <td>SRX151223</td>\n",
       "      <td>level 1</td>\n",
       "      <td>Blood</td>\n",
       "      <td>H.sapiens</td>\n",
       "    </tr>\n",
       "    <tr>\n",
       "      <th>3</th>\n",
       "      <td>AFF1</td>\n",
       "      <td>hsa-mir-12136</td>\n",
       "      <td>chr1: 632685</td>\n",
       "      <td>chr1: 631925-632052(score=650)</td>\n",
       "      <td>Regulation</td>\n",
       "      <td>SRX1293533</td>\n",
       "      <td>level 1</td>\n",
       "      <td>Blood</td>\n",
       "      <td>H.sapiens</td>\n",
       "    </tr>\n",
       "    <tr>\n",
       "      <th>4</th>\n",
       "      <td>AFF1</td>\n",
       "      <td>hsa-mir-12136</td>\n",
       "      <td>chr1: 632685</td>\n",
       "      <td>chr1: 631948-632288(score=677)</td>\n",
       "      <td>Regulation</td>\n",
       "      <td>SRX1424883</td>\n",
       "      <td>level 1</td>\n",
       "      <td>Blood</td>\n",
       "      <td>H.sapiens</td>\n",
       "    </tr>\n",
       "  </tbody>\n",
       "</table>\n",
       "</div>"
      ],
      "text/plain": [
       "  TF name      miRNA name             TSS                       Binding site  \\\n",
       "0    AFF1  hsa-mir-10396a  chr21: 8986999  chr21: 8986747-8987603(score=896)   \n",
       "1    AFF1  hsa-mir-10396a  chr21: 8986999  chr21: 8987366-8987446(score=448)   \n",
       "2    AFF1   hsa-mir-12136    chr1: 632685     chr1: 631917-632055(score=297)   \n",
       "3    AFF1   hsa-mir-12136    chr1: 632685     chr1: 631925-632052(score=650)   \n",
       "4    AFF1   hsa-mir-12136    chr1: 632685     chr1: 631948-632288(score=677)   \n",
       "\n",
       "  Action type  SRAID/PMID Evidence Tissue    Species  \n",
       "0  Regulation  SRX1293533  level 1  Blood  H.sapiens  \n",
       "1  Regulation   SRX151223  level 1  Blood  H.sapiens  \n",
       "2  Regulation   SRX151223  level 1  Blood  H.sapiens  \n",
       "3  Regulation  SRX1293533  level 1  Blood  H.sapiens  \n",
       "4  Regulation  SRX1424883  level 1  Blood  H.sapiens  "
      ]
     },
     "execution_count": 7,
     "metadata": {},
     "output_type": "execute_result"
    }
   ],
   "source": [
    "tf_miR.head()"
   ]
  },
  {
   "cell_type": "code",
   "execution_count": 8,
   "id": "4f4fa4d1",
   "metadata": {},
   "outputs": [
    {
     "data": {
      "text/plain": [
       "level 1       1112238\n",
       "level 2         91137\n",
       "literature       2678\n",
       "Name: Evidence, dtype: int64"
      ]
     },
     "execution_count": 8,
     "metadata": {},
     "output_type": "execute_result"
    }
   ],
   "source": [
    "tf_miR.Evidence.value_counts()"
   ]
  },
  {
   "cell_type": "markdown",
   "id": "b4cc31cc",
   "metadata": {},
   "source": [
    "## 合并TF信息"
   ]
  },
  {
   "cell_type": "code",
   "execution_count": 9,
   "id": "9f5b2b81",
   "metadata": {},
   "outputs": [
    {
     "data": {
      "text/plain": [
       "1342129"
      ]
     },
     "execution_count": 9,
     "metadata": {},
     "output_type": "execute_result"
    }
   ],
   "source": [
    "len(tf_info_1['TF'])"
   ]
  },
  {
   "cell_type": "code",
   "execution_count": 10,
   "id": "00e0a5a7",
   "metadata": {},
   "outputs": [],
   "source": [
    "tf_list = list(set(tf_info_1['TF']) | set(tf_info_2['Symbol']))"
   ]
  },
  {
   "cell_type": "code",
   "execution_count": 11,
   "id": "12d3f006",
   "metadata": {},
   "outputs": [
    {
     "name": "stdout",
     "output_type": "stream",
     "text": [
      "有 1820 个转录因子\n"
     ]
    }
   ],
   "source": [
    "print(f'有 {len(tf_list)} 个转录因子')"
   ]
  },
  {
   "cell_type": "markdown",
   "id": "b228a41f",
   "metadata": {},
   "source": [
    "## 提取miR靶标中是TF的"
   ]
  },
  {
   "cell_type": "code",
   "execution_count": 12,
   "id": "bde6c6c4",
   "metadata": {},
   "outputs": [],
   "source": [
    "miR_target_istf = miR_target.loc[miR_target['Target Gene'].isin(tf_list)]"
   ]
  },
  {
   "cell_type": "code",
   "execution_count": 13,
   "id": "81a7e20b",
   "metadata": {},
   "outputs": [],
   "source": [
    "miR_target_istf = miR_target_istf.drop_duplicates(subset=['miRNA','Species (miRNA)','Target Gene'])"
   ]
  },
  {
   "cell_type": "code",
   "execution_count": 14,
   "id": "87d09896",
   "metadata": {},
   "outputs": [
    {
     "name": "stdout",
     "output_type": "stream",
     "text": [
      "有 50569 条独特的 miRNA 和 TF 作用记录\n"
     ]
    }
   ],
   "source": [
    "print(f'有 {len(miR_target_istf)} 条独特的 miRNA 和 TF 作用记录')"
   ]
  },
  {
   "cell_type": "markdown",
   "id": "ae42ff3b",
   "metadata": {},
   "source": [
    "## 查看 TF 调控 miR"
   ]
  },
  {
   "cell_type": "markdown",
   "id": "6ba162ea",
   "metadata": {},
   "source": [
    "miR--->TF--->miR"
   ]
  },
  {
   "cell_type": "code",
   "execution_count": 15,
   "id": "52dc0d4e",
   "metadata": {},
   "outputs": [
    {
     "data": {
      "text/plain": [
       "Regulation                                         1151636\n",
       "Regulation(feedback)                                 51966\n",
       "Activation                                            1216\n",
       "Repression                                             643\n",
       "Activation(feedback)                                   315\n",
       "Repression(feedback)                                   254\n",
       "Regulation(Double-Negative Feedback Loop)                8\n",
       "auto-regulatory feedback circuit                         6\n",
       "Activation(a negative feedback loop)                     3\n",
       "Activation(negative regulatory loop)                     2\n",
       "regulatory loop                                          2\n",
       "autoregulatory negative feedback loop(feedback)          1\n",
       "regulatory network                                       1\n",
       "Name: Action type, dtype: int64"
      ]
     },
     "execution_count": 15,
     "metadata": {},
     "output_type": "execute_result"
    }
   ],
   "source": [
    "tf_miR['Action type'].value_counts()"
   ]
  },
  {
   "cell_type": "code",
   "execution_count": 16,
   "id": "c80d7495",
   "metadata": {},
   "outputs": [
    {
     "name": "stdout",
     "output_type": "stream",
     "text": [
      "117905\n",
      "118511\n",
      "135151\n"
     ]
    }
   ],
   "source": [
    "tf_miR_unique_1 = tf_miR.drop_duplicates(subset=['TF name','miRNA name'])\n",
    "print(tf_miR_unique_1.shape[0])\n",
    "\n",
    "tf_miR_unique_2 = tf_miR.drop_duplicates(subset=['TF name','miRNA name','Action type'])\n",
    "print(tf_miR_unique_2.shape[0])\n",
    "\n",
    "tf_miR_unique_3 = tf_miR.drop_duplicates(subset=['TF name','miRNA name','Action type','Evidence'])\n",
    "print(tf_miR_unique_3.shape[0])"
   ]
  },
  {
   "cell_type": "markdown",
   "id": "6f5afc3c",
   "metadata": {},
   "source": [
    "可以看到，关于部分TF-miRNA的作用是有争议的,考虑 tf_miR_unique_1 的情况"
   ]
  },
  {
   "cell_type": "code",
   "execution_count": 17,
   "id": "b523aa86",
   "metadata": {},
   "outputs": [
    {
     "data": {
      "text/html": [
       "<div>\n",
       "<style scoped>\n",
       "    .dataframe tbody tr th:only-of-type {\n",
       "        vertical-align: middle;\n",
       "    }\n",
       "\n",
       "    .dataframe tbody tr th {\n",
       "        vertical-align: top;\n",
       "    }\n",
       "\n",
       "    .dataframe thead th {\n",
       "        text-align: right;\n",
       "    }\n",
       "</style>\n",
       "<table border=\"1\" class=\"dataframe\">\n",
       "  <thead>\n",
       "    <tr style=\"text-align: right;\">\n",
       "      <th></th>\n",
       "      <th>TF name</th>\n",
       "      <th>miRNA name</th>\n",
       "      <th>TSS</th>\n",
       "      <th>Binding site</th>\n",
       "      <th>Action type</th>\n",
       "      <th>SRAID/PMID</th>\n",
       "      <th>Evidence</th>\n",
       "      <th>Tissue</th>\n",
       "      <th>Species</th>\n",
       "    </tr>\n",
       "  </thead>\n",
       "  <tbody>\n",
       "    <tr>\n",
       "      <th>0</th>\n",
       "      <td>AFF1</td>\n",
       "      <td>hsa-mir-10396a</td>\n",
       "      <td>chr21: 8986999</td>\n",
       "      <td>chr21: 8986747-8987603(score=896)</td>\n",
       "      <td>Regulation</td>\n",
       "      <td>SRX1293533</td>\n",
       "      <td>level 1</td>\n",
       "      <td>Blood</td>\n",
       "      <td>H.sapiens</td>\n",
       "    </tr>\n",
       "    <tr>\n",
       "      <th>2</th>\n",
       "      <td>AFF1</td>\n",
       "      <td>hsa-mir-12136</td>\n",
       "      <td>chr1: 632685</td>\n",
       "      <td>chr1: 631917-632055(score=297)</td>\n",
       "      <td>Regulation</td>\n",
       "      <td>SRX151223</td>\n",
       "      <td>level 1</td>\n",
       "      <td>Blood</td>\n",
       "      <td>H.sapiens</td>\n",
       "    </tr>\n",
       "    <tr>\n",
       "      <th>8</th>\n",
       "      <td>AFF1</td>\n",
       "      <td>hsa-mir-128-2</td>\n",
       "      <td>chr3: 35641018(NM_001267617)</td>\n",
       "      <td>chr3: 35639498-35640041(score=728)</td>\n",
       "      <td>Regulation</td>\n",
       "      <td>SRX1424883</td>\n",
       "      <td>level 1</td>\n",
       "      <td>Blood</td>\n",
       "      <td>H.sapiens</td>\n",
       "    </tr>\n",
       "    <tr>\n",
       "      <th>12</th>\n",
       "      <td>AFF1</td>\n",
       "      <td>hsa-mir-1284</td>\n",
       "      <td>chr3: 71542089</td>\n",
       "      <td>chr3: 71542536-71542732(score=496)</td>\n",
       "      <td>Regulation</td>\n",
       "      <td>SRX151223</td>\n",
       "      <td>level 1</td>\n",
       "      <td>Blood</td>\n",
       "      <td>H.sapiens</td>\n",
       "    </tr>\n",
       "    <tr>\n",
       "      <th>13</th>\n",
       "      <td>AFF1</td>\n",
       "      <td>hsa-mir-1296</td>\n",
       "      <td>chr10: 63466001(NM_001322252)</td>\n",
       "      <td>chr10: 63465107-63466176(score=588)</td>\n",
       "      <td>Regulation</td>\n",
       "      <td>SRX1293533</td>\n",
       "      <td>level 1</td>\n",
       "      <td>Blood</td>\n",
       "      <td>H.sapiens</td>\n",
       "    </tr>\n",
       "  </tbody>\n",
       "</table>\n",
       "</div>"
      ],
      "text/plain": [
       "   TF name      miRNA name                            TSS  \\\n",
       "0     AFF1  hsa-mir-10396a                 chr21: 8986999   \n",
       "2     AFF1   hsa-mir-12136                   chr1: 632685   \n",
       "8     AFF1   hsa-mir-128-2   chr3: 35641018(NM_001267617)   \n",
       "12    AFF1    hsa-mir-1284                 chr3: 71542089   \n",
       "13    AFF1    hsa-mir-1296  chr10: 63466001(NM_001322252)   \n",
       "\n",
       "                           Binding site Action type  SRAID/PMID Evidence  \\\n",
       "0     chr21: 8986747-8987603(score=896)  Regulation  SRX1293533  level 1   \n",
       "2        chr1: 631917-632055(score=297)  Regulation   SRX151223  level 1   \n",
       "8    chr3: 35639498-35640041(score=728)  Regulation  SRX1424883  level 1   \n",
       "12   chr3: 71542536-71542732(score=496)  Regulation   SRX151223  level 1   \n",
       "13  chr10: 63465107-63466176(score=588)  Regulation  SRX1293533  level 1   \n",
       "\n",
       "   Tissue    Species  \n",
       "0   Blood  H.sapiens  \n",
       "2   Blood  H.sapiens  \n",
       "8   Blood  H.sapiens  \n",
       "12  Blood  H.sapiens  \n",
       "13  Blood  H.sapiens  "
      ]
     },
     "execution_count": 17,
     "metadata": {},
     "output_type": "execute_result"
    }
   ],
   "source": [
    "tf_miR_unique_1.head()"
   ]
  },
  {
   "cell_type": "code",
   "execution_count": 18,
   "id": "e6e7e283",
   "metadata": {},
   "outputs": [
    {
     "data": {
      "text/plain": [
       "level 1       88034\n",
       "level 2       28185\n",
       "literature     1686\n",
       "Name: Evidence, dtype: int64"
      ]
     },
     "execution_count": 18,
     "metadata": {},
     "output_type": "execute_result"
    }
   ],
   "source": [
    "tf_miR_unique_1['Evidence'].value_counts()"
   ]
  },
  {
   "cell_type": "code",
   "execution_count": 25,
   "id": "7676a0ff",
   "metadata": {},
   "outputs": [
    {
     "data": {
      "text/plain": [
       "736        literature\n",
       "750        literature\n",
       "781        literature\n",
       "796        literature\n",
       "798        literature\n",
       "              ...    \n",
       "1193501    literature\n",
       "1193502    literature\n",
       "1193503    literature\n",
       "1206051    literature\n",
       "1206052    literature\n",
       "Name: Evidence, Length: 1686, dtype: object"
      ]
     },
     "execution_count": 25,
     "metadata": {},
     "output_type": "execute_result"
    }
   ],
   "source": [
    "# tf_miR_unique_1['Evidence'].loc[tf_miR_unique_1['Evidence']=='literature']"
   ]
  },
  {
   "cell_type": "markdown",
   "id": "0fbd76c6",
   "metadata": {},
   "source": [
    "## 查看miR interplay"
   ]
  },
  {
   "cell_type": "markdown",
   "id": "9c79f2cc",
   "metadata": {},
   "source": [
    "**实验层面**"
   ]
  },
  {
   "cell_type": "code",
   "execution_count": null,
   "id": "cadbe0e0",
   "metadata": {},
   "outputs": [],
   "source": [
    "miR_target_istf.head()"
   ]
  },
  {
   "cell_type": "code",
   "execution_count": null,
   "id": "62b3bd28",
   "metadata": {},
   "outputs": [],
   "source": [
    "tf_miR_unique_1.head()"
   ]
  },
  {
   "cell_type": "markdown",
   "id": "3e5f306a",
   "metadata": {},
   "source": [
    "**文献层面**"
   ]
  },
  {
   "cell_type": "code",
   "execution_count": null,
   "id": "e4ee22db",
   "metadata": {},
   "outputs": [],
   "source": [
    "miR_interplay_literature = pd.merge(miR_target_istf[['miRNA','Target Gene','References (PMID)']],tf_miR_unique_1.loc[tf_miR_unique_1['Evidence']=='literature',['TF name','miRNA name','Action type','SRAID/PMID']], left_on='Target Gene',right_on='TF name',how='inner')\n",
    "miR_interplay_literature.to_csv('../../result/miR_interplay/miR_interplay_literature.csv')"
   ]
  },
  {
   "cell_type": "markdown",
   "id": "aa41740e",
   "metadata": {},
   "source": [
    "**level2 或 文献层面**"
   ]
  },
  {
   "cell_type": "code",
   "execution_count": null,
   "id": "8993a102",
   "metadata": {},
   "outputs": [],
   "source": [
    "miR_interplay_level2_literature = pd.merge(miR_target_istf[['miRNA','Target Gene','References (PMID)']],tf_miR_unique_1.loc[tf_miR_unique_1['Evidence']!='level 1',['TF name','miRNA name','Action type','SRAID/PMID']], left_on='Target Gene',right_on='TF name',how='inner')\n",
    "# miR_interplay_level2_literature.to_csv('../../result/miR_interplay/miR_interplay_level2_literature.csv')"
   ]
  },
  {
   "cell_type": "markdown",
   "id": "81626c7b",
   "metadata": {},
   "source": [
    "**所有证据层面**"
   ]
  },
  {
   "cell_type": "code",
   "execution_count": null,
   "id": "cd802451",
   "metadata": {},
   "outputs": [],
   "source": [
    "miR_interplay_all = pd.merge(miR_target_istf[['miRNA','Target Gene','References (PMID)']],tf_miR_unique_1[['TF name','miRNA name','Action type','SRAID/PMID']], left_on='Target Gene',right_on='TF name',how='inner')\n",
    "# miR_interplay_all.to_csv('../../result/miR_interplay/miR_interplay_all.csv')"
   ]
  },
  {
   "cell_type": "code",
   "execution_count": null,
   "id": "a83e69d6",
   "metadata": {
    "scrolled": true
   },
   "outputs": [],
   "source": [
    "print('文献中报导 miRNA 记录',miR_interplay_literature.shape)\n",
    "print('level2 或 文献中报导 miRNA 记录',miR_interplay_level2_literature.shape)\n",
    "print('所有证据层面 miRNA 记录',miR_interplay_all.shape)"
   ]
  },
  {
   "cell_type": "code",
   "execution_count": null,
   "id": "fe8eb4be",
   "metadata": {},
   "outputs": [],
   "source": []
  },
  {
   "cell_type": "code",
   "execution_count": null,
   "id": "3d505ebc",
   "metadata": {},
   "outputs": [],
   "source": []
  },
  {
   "cell_type": "code",
   "execution_count": null,
   "id": "5a642725",
   "metadata": {},
   "outputs": [],
   "source": []
  }
 ],
 "metadata": {
  "kernelspec": {
   "display_name": "Python 3 (ipykernel)",
   "language": "python",
   "name": "python3"
  },
  "language_info": {
   "codemirror_mode": {
    "name": "ipython",
    "version": 3
   },
   "file_extension": ".py",
   "mimetype": "text/x-python",
   "name": "python",
   "nbconvert_exporter": "python",
   "pygments_lexer": "ipython3",
   "version": "3.8.13"
  }
 },
 "nbformat": 4,
 "nbformat_minor": 5
}
